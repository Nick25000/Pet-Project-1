{
 "cells": [
  {
   "cell_type": "markdown",
   "id": "46887009",
   "metadata": {},
   "source": [
    "# Football Match Probability Prediction"
   ]
  },
  {
   "cell_type": "markdown",
   "id": "717e4169-2ba0-49a0-9a4b-05a24c0db4a0",
   "metadata": {
    "tags": []
   },
   "source": [
    "<h2>This notebook was made for an open competition on <a href = \"https://www.kaggle.com/competitions/football-match-probability-prediction/overview\" target=\"_blank\">Kaggle</a> for predicting probability football matches.</h2>\n",
    "<hr/>\n",
    "<h4><b><i>The purpose of the competition is</i></b></h4 ><i>to predict the probability of the outcome of the match: multiclass target (home, away,draw)</i>\n",
    "\n",
    "<h4><b><i>Models used:</i></b></h4> <i> Baseline - LogisticRegression, XGBClassifier, LGBMClassifier, CatBoostClassifier. \n",
    "    The best result was obtained using the Catboost with Optuna.</i>\n",
    "\n",
    "<h4><b><i>Model metrics:</i></b></h4><i>multiclass log_loss</i>\n",
    "\n",
    "<h4><b><i>Results:</i></b></h4><i> 1-st place in public <a href = \"https://www.kaggle.com/competitions/football-match-probability-prediction/leaderboard\" target=\"_blank\">Leaderbord</a> with result 0.98834\n",
    "<hr/>\n",
    "<h3>This notebook was made by Nikolay Luzhynski and updoaded to github on 10 April, 2022</h3>\n",
    "    <hr/>"
   ]
  },
  {
   "cell_type": "markdown",
   "id": "edb2e955-3e4b-45c1-8277-5945d7e9c93f",
   "metadata": {
    "tags": []
   },
   "source": [
    "## Library import"
   ]
  },
  {
   "cell_type": "code",
   "execution_count": null,
   "id": "41d883bb",
   "metadata": {
    "tags": []
   },
   "outputs": [],
   "source": [
    "import pandas as pd\n",
    "import numpy as np\n",
    "import random\n",
    "from datetime import datetime, timedelta\n",
    "\n",
    "import matplotlib.pyplot as plt\n",
    "import seaborn as sns\n",
    "%matplotlib inline\n",
    "\n",
    "from sklearn.model_selection import train_test_split, cross_val_score, StratifiedKFold, KFold\n",
    "from sklearn.preprocessing import LabelEncoder, StandardScaler\n",
    "from sklearn.metrics import log_loss\n",
    "from sklearn.linear_model import LogisticRegression\n",
    "\n",
    "\n",
    "from xgboost import XGBClassifier\n",
    "from lightgbm import LGBMClassifier\n",
    "from catboost import CatBoostClassifier\n",
    "\n",
    "import optuna\n",
    "\n",
    "from tqdm.notebook import trange, tqdm\n",
    "import warnings\n",
    "warnings.filterwarnings('ignore')\n",
    "RAND = 123"
   ]
  },
  {
   "cell_type": "markdown",
   "id": "7e1a5bc9-5f7a-49f4-97aa-6b195465711a",
   "metadata": {
    "tags": []
   },
   "source": [
    "## Import my libraries"
   ]
  },
  {
   "cell_type": "code",
   "execution_count": 2,
   "id": "22a7a260-83dd-4bdd-bf01-6e75132b1086",
   "metadata": {},
   "outputs": [],
   "source": [
    "import sys\n",
    "sys.path.insert(1, 'my_modules')\n",
    "\n",
    "# this code include load data, convert to the true format and fill na-values\n",
    "from FILL_NA import FillNa\n",
    "# this code include feature engineering\n",
    "from Features_engineering import FeaturesEngineering"
   ]
  },
  {
   "cell_type": "markdown",
   "id": "7ea5ec2d-b619-4180-9d9b-f8720d4bd877",
   "metadata": {
    "tags": []
   },
   "source": [
    "## Data loading"
   ]
  },
  {
   "cell_type": "code",
   "execution_count": 3,
   "id": "508dc44f-3f6d-4872-acec-c95fb61a483b",
   "metadata": {},
   "outputs": [
    {
     "name": "stdout",
     "output_type": "stream",
     "text": [
      "test.csv    test_2.csv  train.csv\n"
     ]
    }
   ],
   "source": [
    "ls ../datasets/"
   ]
  },
  {
   "cell_type": "code",
   "execution_count": 4,
   "id": "2c30555b",
   "metadata": {},
   "outputs": [
    {
     "data": {
      "text/plain": [
       "((110938, 189), (72711, 188))"
      ]
     },
     "execution_count": 4,
     "metadata": {},
     "output_type": "execute_result"
    }
   ],
   "source": [
    "custom_date_parser = lambda x: datetime.strptime(x, \"%Y-%m-%d %H:%M:%S\")\n",
    "path_to_datasets = '../datasets/'\n",
    "trainset = pd.read_csv(path_to_datasets+'train.csv', index_col='id',parse_dates=['match_date'],\n",
    "                date_parser=custom_date_parser)\n",
    "testset = pd.read_csv(path_to_datasets+'test.csv', index_col='id',parse_dates=['match_date'],\n",
    "                date_parser=custom_date_parser)\n",
    "trainset.shape, testset.shape"
   ]
  },
  {
   "cell_type": "code",
   "execution_count": 5,
   "id": "30f6d4ee-dfea-424f-8138-10fe00b7beb8",
   "metadata": {},
   "outputs": [],
   "source": [
    "coder = {'away':0,\n",
    "         'home':1,\n",
    "         'draw':2}\n",
    "trainset['target'] = trainset['target'].map(coder)"
   ]
  },
  {
   "cell_type": "code",
   "execution_count": 6,
   "id": "c2e16c32-2ffb-4664-bc69-2fe44d97114a",
   "metadata": {},
   "outputs": [
    {
     "data": {
      "text/html": [
       "<div>\n",
       "<style scoped>\n",
       "    .dataframe tbody tr th:only-of-type {\n",
       "        vertical-align: middle;\n",
       "    }\n",
       "\n",
       "    .dataframe tbody tr th {\n",
       "        vertical-align: top;\n",
       "    }\n",
       "\n",
       "    .dataframe thead th {\n",
       "        text-align: right;\n",
       "    }\n",
       "</style>\n",
       "<table border=\"1\" class=\"dataframe\">\n",
       "  <thead>\n",
       "    <tr style=\"text-align: right;\">\n",
       "      <th></th>\n",
       "      <th>home_team_name</th>\n",
       "      <th>away_team_name</th>\n",
       "      <th>match_date</th>\n",
       "      <th>league_name</th>\n",
       "      <th>league_id</th>\n",
       "      <th>is_cup</th>\n",
       "      <th>home_team_coach_id</th>\n",
       "      <th>away_team_coach_id</th>\n",
       "      <th>home_team_history_match_date_1</th>\n",
       "      <th>home_team_history_match_date_2</th>\n",
       "      <th>...</th>\n",
       "      <th>away_team_history_league_id_1</th>\n",
       "      <th>away_team_history_league_id_2</th>\n",
       "      <th>away_team_history_league_id_3</th>\n",
       "      <th>away_team_history_league_id_4</th>\n",
       "      <th>away_team_history_league_id_5</th>\n",
       "      <th>away_team_history_league_id_6</th>\n",
       "      <th>away_team_history_league_id_7</th>\n",
       "      <th>away_team_history_league_id_8</th>\n",
       "      <th>away_team_history_league_id_9</th>\n",
       "      <th>away_team_history_league_id_10</th>\n",
       "    </tr>\n",
       "    <tr>\n",
       "      <th>id</th>\n",
       "      <th></th>\n",
       "      <th></th>\n",
       "      <th></th>\n",
       "      <th></th>\n",
       "      <th></th>\n",
       "      <th></th>\n",
       "      <th></th>\n",
       "      <th></th>\n",
       "      <th></th>\n",
       "      <th></th>\n",
       "      <th></th>\n",
       "      <th></th>\n",
       "      <th></th>\n",
       "      <th></th>\n",
       "      <th></th>\n",
       "      <th></th>\n",
       "      <th></th>\n",
       "      <th></th>\n",
       "      <th></th>\n",
       "      <th></th>\n",
       "      <th></th>\n",
       "    </tr>\n",
       "  </thead>\n",
       "  <tbody>\n",
       "    <tr>\n",
       "      <th>17761448</th>\n",
       "      <td>12 de Octubre</td>\n",
       "      <td>Sportivo Luqueño</td>\n",
       "      <td>2021-05-01 00:15:00</td>\n",
       "      <td>Division 1</td>\n",
       "      <td>755</td>\n",
       "      <td>False</td>\n",
       "      <td>9605704.0</td>\n",
       "      <td>30866250.0</td>\n",
       "      <td>2021-04-28 00:30:00</td>\n",
       "      <td>2021-04-23 23:00:00</td>\n",
       "      <td>...</td>\n",
       "      <td>755.0</td>\n",
       "      <td>755.0</td>\n",
       "      <td>755.0</td>\n",
       "      <td>755.0</td>\n",
       "      <td>755.0</td>\n",
       "      <td>755.0</td>\n",
       "      <td>755.0</td>\n",
       "      <td>755.0</td>\n",
       "      <td>755.0</td>\n",
       "      <td>755.0</td>\n",
       "    </tr>\n",
       "    <tr>\n",
       "      <th>17695487</th>\n",
       "      <td>Necaxa</td>\n",
       "      <td>Atlas</td>\n",
       "      <td>2021-05-01 00:30:00</td>\n",
       "      <td>Liga MX</td>\n",
       "      <td>743</td>\n",
       "      <td>False</td>\n",
       "      <td>10319425.0</td>\n",
       "      <td>460370.0</td>\n",
       "      <td>2021-04-24 02:06:00</td>\n",
       "      <td>2021-04-17 00:30:00</td>\n",
       "      <td>...</td>\n",
       "      <td>743.0</td>\n",
       "      <td>743.0</td>\n",
       "      <td>743.0</td>\n",
       "      <td>743.0</td>\n",
       "      <td>743.0</td>\n",
       "      <td>743.0</td>\n",
       "      <td>743.0</td>\n",
       "      <td>743.0</td>\n",
       "      <td>743.0</td>\n",
       "      <td>743.0</td>\n",
       "    </tr>\n",
       "    <tr>\n",
       "      <th>17715496</th>\n",
       "      <td>Sertãozinho</td>\n",
       "      <td>EC São Bernardo</td>\n",
       "      <td>2021-05-01 01:00:00</td>\n",
       "      <td>Paulista A2</td>\n",
       "      <td>1314</td>\n",
       "      <td>False</td>\n",
       "      <td>440905.0</td>\n",
       "      <td>220998.0</td>\n",
       "      <td>2021-04-28 23:00:00</td>\n",
       "      <td>2021-04-24 23:00:00</td>\n",
       "      <td>...</td>\n",
       "      <td>1314.0</td>\n",
       "      <td>1314.0</td>\n",
       "      <td>1314.0</td>\n",
       "      <td>1314.0</td>\n",
       "      <td>1314.0</td>\n",
       "      <td>1314.0</td>\n",
       "      <td>1314.0</td>\n",
       "      <td>1314.0</td>\n",
       "      <td>1315.0</td>\n",
       "      <td>1315.0</td>\n",
       "    </tr>\n",
       "  </tbody>\n",
       "</table>\n",
       "<p>3 rows × 188 columns</p>\n",
       "</div>"
      ],
      "text/plain": [
       "         home_team_name    away_team_name          match_date  league_name  \\\n",
       "id                                                                           \n",
       "17761448  12 de Octubre  Sportivo Luqueño 2021-05-01 00:15:00   Division 1   \n",
       "17695487         Necaxa             Atlas 2021-05-01 00:30:00      Liga MX   \n",
       "17715496    Sertãozinho   EC São Bernardo 2021-05-01 01:00:00  Paulista A2   \n",
       "\n",
       "          league_id  is_cup  home_team_coach_id  away_team_coach_id  \\\n",
       "id                                                                    \n",
       "17761448        755   False           9605704.0          30866250.0   \n",
       "17695487        743   False          10319425.0            460370.0   \n",
       "17715496       1314   False            440905.0            220998.0   \n",
       "\n",
       "         home_team_history_match_date_1 home_team_history_match_date_2  ...  \\\n",
       "id                                                                      ...   \n",
       "17761448            2021-04-28 00:30:00            2021-04-23 23:00:00  ...   \n",
       "17695487            2021-04-24 02:06:00            2021-04-17 00:30:00  ...   \n",
       "17715496            2021-04-28 23:00:00            2021-04-24 23:00:00  ...   \n",
       "\n",
       "         away_team_history_league_id_1 away_team_history_league_id_2  \\\n",
       "id                                                                     \n",
       "17761448                         755.0                         755.0   \n",
       "17695487                         743.0                         743.0   \n",
       "17715496                        1314.0                        1314.0   \n",
       "\n",
       "         away_team_history_league_id_3 away_team_history_league_id_4  \\\n",
       "id                                                                     \n",
       "17761448                         755.0                         755.0   \n",
       "17695487                         743.0                         743.0   \n",
       "17715496                        1314.0                        1314.0   \n",
       "\n",
       "         away_team_history_league_id_5 away_team_history_league_id_6  \\\n",
       "id                                                                     \n",
       "17761448                         755.0                         755.0   \n",
       "17695487                         743.0                         743.0   \n",
       "17715496                        1314.0                        1314.0   \n",
       "\n",
       "         away_team_history_league_id_7 away_team_history_league_id_8  \\\n",
       "id                                                                     \n",
       "17761448                         755.0                         755.0   \n",
       "17695487                         743.0                         743.0   \n",
       "17715496                        1314.0                        1314.0   \n",
       "\n",
       "          away_team_history_league_id_9  away_team_history_league_id_10  \n",
       "id                                                                       \n",
       "17761448                          755.0                           755.0  \n",
       "17695487                          743.0                           743.0  \n",
       "17715496                         1315.0                          1315.0  \n",
       "\n",
       "[3 rows x 188 columns]"
      ]
     },
     "execution_count": 6,
     "metadata": {},
     "output_type": "execute_result"
    }
   ],
   "source": [
    "testset.head(3)"
   ]
  },
  {
   "cell_type": "markdown",
   "id": "00ea3292",
   "metadata": {
    "tags": []
   },
   "source": [
    "## Fill NA_values"
   ]
  },
  {
   "cell_type": "code",
   "execution_count": 7,
   "id": "388d5040",
   "metadata": {},
   "outputs": [
    {
     "name": "stdout",
     "output_type": "stream",
     "text": [
      "CPU times: user 38.8 s, sys: 3.2 s, total: 42 s\n",
      "Wall time: 42.4 s\n"
     ]
    }
   ],
   "source": [
    "%%time\n",
    "# for more detail check the file FILL_NA.py\n",
    "class_na = FillNa(trainset)\n",
    "class_na.fill_na_descr_col()\n",
    "class_na.fill_na_coachs()\n",
    "class_na.fill_na_time()\n",
    "class_na.fill_na_is_play_home()\n",
    "class_na.fill_na_goal_team()\n",
    "class_na.fill_na_goal_team_opponent()\n",
    "class_na.fill_na_rating_team()\n",
    "class_na.fill_na_rating_team_opponent()\n",
    "class_na.fill_na_league()\n",
    "class_na.fill_na_cup()\n",
    "assert class_na.dataset.isna().sum().sum() == 0 \n",
    "trainset_general = class_na.dataset"
   ]
  },
  {
   "cell_type": "code",
   "execution_count": 8,
   "id": "0a71e0eb-81b2-4f0d-a5cb-e92cc3575996",
   "metadata": {},
   "outputs": [
    {
     "name": "stdout",
     "output_type": "stream",
     "text": [
      "CPU times: user 24.2 s, sys: 1.24 s, total: 25.4 s\n",
      "Wall time: 25.5 s\n"
     ]
    }
   ],
   "source": [
    "%%time\n",
    "class_na = FillNa(testset)\n",
    "class_na.fill_na_descr_col()\n",
    "class_na.fill_na_coachs()\n",
    "class_na.fill_na_time()\n",
    "class_na.fill_na_is_play_home()\n",
    "class_na.fill_na_goal_team()\n",
    "class_na.fill_na_goal_team_opponent()\n",
    "class_na.fill_na_rating_team()\n",
    "class_na.fill_na_rating_team_opponent()\n",
    "class_na.fill_na_league()\n",
    "class_na.fill_na_cup()\n",
    "assert class_na.dataset.isna().sum().sum() == 0 \n",
    "testset_general = class_na.dataset"
   ]
  },
  {
   "cell_type": "markdown",
   "id": "276ab9a8",
   "metadata": {
    "tags": []
   },
   "source": [
    "## Feature Engineering"
   ]
  },
  {
   "cell_type": "code",
   "execution_count": 9,
   "id": "90beaf41-ec89-4ff3-bb86-75fa910f4615",
   "metadata": {
    "tags": []
   },
   "outputs": [
    {
     "data": {
      "text/plain": [
       "(183648, 188)"
      ]
     },
     "execution_count": 9,
     "metadata": {},
     "output_type": "execute_result"
    }
   ],
   "source": [
    "dataset = pd.concat([trainset_general.drop('target', axis=1), testset_general], axis=0)\n",
    "index_split_dataset = trainset_general.shape[0]\n",
    "dataset.shape"
   ]
  },
  {
   "cell_type": "code",
   "execution_count": 10,
   "id": "a39b7b42",
   "metadata": {},
   "outputs": [
    {
     "data": {
      "application/vnd.jupyter.widget-view+json": {
       "model_id": "42edf03d2059459bbfb8887656431780",
       "version_major": 2,
       "version_minor": 0
      },
      "text/plain": [
       "  0%|          | 0/183648 [00:00<?, ?it/s]"
      ]
     },
     "metadata": {},
     "output_type": "display_data"
    },
    {
     "data": {
      "application/vnd.jupyter.widget-view+json": {
       "model_id": "d2b7846a89bb416c9c226ee4722562d3",
       "version_major": 2,
       "version_minor": 0
      },
      "text/plain": [
       "  0%|          | 0/183648 [00:00<?, ?it/s]"
      ]
     },
     "metadata": {},
     "output_type": "display_data"
    },
    {
     "data": {
      "application/vnd.jupyter.widget-view+json": {
       "model_id": "bd1ade00519a4f35b022e7252848b3d6",
       "version_major": 2,
       "version_minor": 0
      },
      "text/plain": [
       "  0%|          | 0/183648 [00:00<?, ?it/s]"
      ]
     },
     "metadata": {},
     "output_type": "display_data"
    },
    {
     "data": {
      "application/vnd.jupyter.widget-view+json": {
       "model_id": "4a96729a293543848f9211a78d16470e",
       "version_major": 2,
       "version_minor": 0
      },
      "text/plain": [
       "  0%|          | 0/183648 [00:00<?, ?it/s]"
      ]
     },
     "metadata": {},
     "output_type": "display_data"
    },
    {
     "data": {
      "application/vnd.jupyter.widget-view+json": {
       "model_id": "ee270bc5a9ec45648ea755d5c18a92cc",
       "version_major": 2,
       "version_minor": 0
      },
      "text/plain": [
       "  0%|          | 0/183648 [00:00<?, ?it/s]"
      ]
     },
     "metadata": {},
     "output_type": "display_data"
    },
    {
     "data": {
      "application/vnd.jupyter.widget-view+json": {
       "model_id": "e92d1ae36c4b4232a77c0537083e7915",
       "version_major": 2,
       "version_minor": 0
      },
      "text/plain": [
       "  0%|          | 0/183648 [00:00<?, ?it/s]"
      ]
     },
     "metadata": {},
     "output_type": "display_data"
    },
    {
     "name": "stdout",
     "output_type": "stream",
     "text": [
      "CPU times: user 6min 12s, sys: 7.07 s, total: 6min 19s\n",
      "Wall time: 6min 19s\n"
     ]
    }
   ],
   "source": [
    "%%time\n",
    "# for more detail check the file Features_engineering.py\n",
    "F_eng = FeaturesEngineering(dataset)\n",
    "F_eng.Ft_eng_coach_id()\n",
    "F_eng.Ft_eng_history_goal()\n",
    "F_eng.Ft_eng_is_cup()\n",
    "F_eng.Ft_eng_is_play_home()\n",
    "F_eng.Ft_eng_match_date()\n",
    "F_eng.Ft_eng_rating()\n",
    "F_eng.Ft_eng_league_id()\n",
    "F_eng.Ft_eng_win_percentage()"
   ]
  },
  {
   "cell_type": "code",
   "execution_count": 11,
   "id": "5e5fd776-8d37-40a0-97a8-c8cd72933fb8",
   "metadata": {
    "jp-MarkdownHeadingCollapsed": true,
    "tags": []
   },
   "outputs": [
    {
     "data": {
      "text/plain": [
       "((110937, 323), (72711, 322))"
      ]
     },
     "execution_count": 11,
     "metadata": {},
     "output_type": "execute_result"
    }
   ],
   "source": [
    "trainset = F_eng.dataset.iloc[:index_split_dataset,:]\n",
    "trainset['target'] = trainset_general['target']\n",
    "testset = F_eng.dataset.iloc[index_split_dataset:,:]\n",
    "trainset.shape, testset.shape"
   ]
  },
  {
   "cell_type": "markdown",
   "id": "d058ac1b",
   "metadata": {
    "tags": []
   },
   "source": [
    "## Learning - Baseline models"
   ]
  },
  {
   "cell_type": "code",
   "execution_count": 12,
   "id": "5886f474",
   "metadata": {},
   "outputs": [
    {
     "data": {
      "text/plain": [
       "((110937, 298), (72711, 298))"
      ]
     },
     "execution_count": 12,
     "metadata": {},
     "output_type": "execute_result"
    }
   ],
   "source": [
    "drop_list = ['match_date','league_name', 'home_team_name', 'away_team_name'] +\\\n",
    "[f'home_team_history_match_date_{i}' for i in range(1,11)] +\\\n",
    "[f'away_team_history_match_date_{i}' for i in range(1,11)]\n",
    "X = trainset.drop(drop_list+['target'], axis=1)\n",
    "y = trainset['target']\n",
    "final_X = testset.drop(drop_list, axis=1)\n",
    "X.shape, final_X.shape"
   ]
  },
  {
   "cell_type": "code",
   "execution_count": 13,
   "id": "4a3c4e75",
   "metadata": {},
   "outputs": [
    {
     "name": "stdout",
     "output_type": "stream",
     "text": [
      "LogisticRegression_score:  1.083867026730588\n"
     ]
    }
   ],
   "source": [
    "# LogisticRegression\n",
    "LogisticRegression_model = LogisticRegression(random_state=RAND)\n",
    "LogisticRegression_score = cross_val_score(LogisticRegression_model, X, y,scoring='neg_log_loss', cv=5)\n",
    "print('LogisticRegression_score: ', LogisticRegression_score.mean()*-1)"
   ]
  },
  {
   "cell_type": "code",
   "execution_count": 16,
   "id": "c6b40dc5",
   "metadata": {},
   "outputs": [
    {
     "name": "stdout",
     "output_type": "stream",
     "text": [
      "ligthgbmc_score:  1.0164546954448728\n"
     ]
    }
   ],
   "source": [
    "# LGBMClassifier\n",
    "ligthgbmc_model = LGBMClassifier(random_state=RAND)\n",
    "ligthgbmc_score = cross_val_score(ligthgbmc_model, X, y,scoring='neg_log_loss', cv=5)\n",
    "print('ligthgbmc_score: ', ligthgbmc_score.mean()*-1)"
   ]
  },
  {
   "cell_type": "code",
   "execution_count": 18,
   "id": "cb9e43a5-c198-44cd-8ccb-bbe3ff3ae2a4",
   "metadata": {},
   "outputs": [
    {
     "name": "stdout",
     "output_type": "stream",
     "text": [
      "cbc_score:  1.0119843126024233\n"
     ]
    }
   ],
   "source": [
    "# CatBoostClassifier\n",
    "cbc_model = CatBoostClassifier(random_state=RAND, verbose=False)\n",
    "cbc_score = cross_val_score(cbc_model, X, y, cv=5,scoring='neg_log_loss')\n",
    "print('cbc_score: ', cbc_score.mean()*-1)"
   ]
  },
  {
   "cell_type": "code",
   "execution_count": null,
   "id": "0250a9c5-4e2c-4637-b438-009f5b7c5d34",
   "metadata": {
    "tags": []
   },
   "outputs": [],
   "source": [
    "# XGBClassifier\n",
    "xgb_model = XGBClassifier(random_state=RAND, verbose=False)\n",
    "xgb_score = cross_val_score(xgb_model, X, y, cv=5,scoring='neg_log_loss')\n",
    "print('xgb_score: ', xgb_score.mean()*-1)"
   ]
  },
  {
   "cell_type": "markdown",
   "id": "b83b44a4-14e9-46a5-8f28-24d56ab3b630",
   "metadata": {},
   "source": [
    "#### The best result with CatBoost - 1.01198"
   ]
  },
  {
   "cell_type": "markdown",
   "id": "94aa3fae-7057-4275-b1f7-3af86df5541c",
   "metadata": {
    "tags": []
   },
   "source": [
    "##  Searching hyperparameters with Optuna"
   ]
  },
  {
   "cell_type": "code",
   "execution_count": 65,
   "id": "90529a23",
   "metadata": {},
   "outputs": [],
   "source": [
    "drop_list = ['match_date','league_name', 'home_team_name', 'away_team_name'] +\\\n",
    "[f'home_team_history_match_date_{i}' for i in range(1,11)] +\\\n",
    "[f'away_team_history_match_date_{i}' for i in range(1,11)]"
   ]
  },
  {
   "cell_type": "code",
   "execution_count": 66,
   "id": "fae8878a",
   "metadata": {},
   "outputs": [
    {
     "data": {
      "text/plain": [
       "((110937, 298), (72711, 298))"
      ]
     },
     "execution_count": 66,
     "metadata": {},
     "output_type": "execute_result"
    }
   ],
   "source": [
    "X = trainset.drop(drop_list+['target'], axis=1)\n",
    "y = trainset['target']\n",
    "final_X = testset.drop(drop_list, axis=1)\n",
    "X.shape, final_X.shape"
   ]
  },
  {
   "cell_type": "markdown",
   "id": "4d05eef2-cf46-4f15-a31e-894f0e04fc62",
   "metadata": {
    "tags": []
   },
   "source": [
    "### CatBoostClassifier"
   ]
  },
  {
   "cell_type": "code",
   "execution_count": 68,
   "id": "a37a0548-e308-4aa9-8063-39474d1b1446",
   "metadata": {},
   "outputs": [],
   "source": [
    "def objective(trial, data=X, target=y):\n",
    "    X_train, X_val, y_train, y_val = train_test_split(X, y, test_size=0.2, random_state=42)\n",
    "\n",
    "    param_grid = {\n",
    "        'learning_rate': trial.suggest_float('learning_rate', 0.001,0.01),\n",
    "        'n_estimators': trial.suggest_int(\"n_estimators\", 3000, 8000),\n",
    "        \"max_depth\": trial.suggest_int(\"max_depth\", 3, 10),\n",
    "        \"l2_leaf_reg\": trial.suggest_int(\"max_depth\", 3, 10),\n",
    "        #\"subsample\": trial.suggest_float(\"subsample\", 0.5, 0.99, step = 0.09),\n",
    "        #'od_wait': trial.suggest_int('od_wait', 10, 50, step=8),\n",
    "        #\"colsample_bylevel\": trial.suggest_float(\"colsample_bylevel\", 0.5, 0.99, step =0.09),\n",
    "        #\"random_strength\": trial.suggest_int(\"random_strength\", 1, 10, step=1)\n",
    "    }\n",
    "    cv = KFold(n_splits=5, shuffle=True, random_state=RAND)\n",
    "    \n",
    "    cv_predicts = np.empty(5)\n",
    "    \n",
    "    for idx, (train_idx, test_idx) in enumerate(cv.split(X, y)):\n",
    "        X_train, X_test = X.iloc[train_idx], X.iloc[test_idx]\n",
    "        y_train, y_test = y.iloc[train_idx], y.iloc[test_idx]\n",
    "\n",
    "        model = CatBoostClassifier(**param_grid)\n",
    "        model.fit(X_train,\n",
    "                  y_train,\n",
    "                  eval_set=[(X_test, y_test)],\n",
    "                  early_stopping_rounds=100,\n",
    "                  verbose=False)\n",
    "        preds = model.predict_proba(X_test)        \n",
    "        cv_predicts[idx] = log_loss(y_test, preds)\n",
    "\n",
    "    return np.mean(cv_predicts)"
   ]
  },
  {
   "cell_type": "code",
   "execution_count": 69,
   "id": "7dfb1e0a-acb3-4406-b330-c3221a3ecda4",
   "metadata": {
    "tags": []
   },
   "outputs": [
    {
     "name": "stderr",
     "output_type": "stream",
     "text": [
      "\u001b[32m[I 2022-04-10 18:16:45,495]\u001b[0m A new study created in memory with name: CTB\u001b[0m\n",
      "Custom logger is already specified. Specify more than one logger at same time is not thread safe.Custom logger is already specified. Specify more than one logger at same time is not thread safe.Custom logger is already specified. Specify more than one logger at same time is not thread safe.\u001b[32m[I 2022-04-10 20:04:45,125]\u001b[0m Trial 3 finished with value: 0.9950484081271217 and parameters: {'learning_rate': 0.0037116868923497753, 'n_estimators': 4307, 'max_depth': 4}. Best is trial 3 with value: 0.9950484081271217.\u001b[0m\n",
      "\u001b[32m[I 2022-04-11 08:54:26,923]\u001b[0m Trial 1 finished with value: 0.9924313867129003 and parameters: {'learning_rate': 0.004430666526778404, 'n_estimators': 4305, 'max_depth': 8}. Best is trial 1 with value: 0.9924313867129003.\u001b[0m\n",
      "\u001b[32m[I 2022-04-11 10:58:53,070]\u001b[0m Trial 0 finished with value: 0.9918752928545521 and parameters: {'learning_rate': 0.004690749007183885, 'n_estimators': 5114, 'max_depth': 9}. Best is trial 0 with value: 0.9918752928545521.\u001b[0m\n",
      "\u001b[32m[I 2022-04-11 12:05:57,284]\u001b[0m Trial 2 finished with value: 0.9920379394401342 and parameters: {'learning_rate': 0.005723825622807877, 'n_estimators': 7971, 'max_depth': 10}. Best is trial 0 with value: 0.9918752928545521.\u001b[0m\n"
     ]
    }
   ],
   "source": [
    "study = optuna.create_study(direction=\"minimize\", study_name=\"CTB\")\n",
    "func = lambda trial: objective(trial, X, y)\n",
    "study.optimize(func, n_trials=4, show_progress_bar=False, n_jobs=4)"
   ]
  },
  {
   "cell_type": "code",
   "execution_count": 70,
   "id": "29fe823c-069c-4ee3-baa8-f8c6c67d8612",
   "metadata": {},
   "outputs": [
    {
     "data": {
      "text/plain": [
       "{'learning_rate': 0.004690749007183885, 'n_estimators': 5114, 'max_depth': 9}"
      ]
     },
     "execution_count": 70,
     "metadata": {},
     "output_type": "execute_result"
    }
   ],
   "source": [
    "study.best_params"
   ]
  },
  {
   "cell_type": "code",
   "execution_count": 78,
   "id": "86c06bc7-6efe-4bfc-b812-38bfe4afdcb9",
   "metadata": {},
   "outputs": [
    {
     "data": {
      "text/plain": [
       "0.9918752928545521"
      ]
     },
     "execution_count": 78,
     "metadata": {},
     "output_type": "execute_result"
    }
   ],
   "source": [
    "study.best_value"
   ]
  },
  {
   "cell_type": "code",
   "execution_count": 71,
   "id": "9b88324b-9e40-4696-ba0c-455ec2a37b0b",
   "metadata": {},
   "outputs": [],
   "source": [
    "best_params_cb = {'learning_rate': 0.004690749007183885, 'n_estimators': 5114, 'max_depth': 9}"
   ]
  },
  {
   "cell_type": "markdown",
   "id": "776506f7-b38d-47ee-adc0-e3a94c472082",
   "metadata": {},
   "source": [
    "#### We got a good result on cross-validation with cv=5 - 0.991875"
   ]
  },
  {
   "cell_type": "markdown",
   "id": "3fe87172-c4f0-45d5-9401-3dc99a6b707d",
   "metadata": {
    "tags": []
   },
   "source": [
    "### LGBMClassifier"
   ]
  },
  {
   "cell_type": "code",
   "execution_count": 44,
   "id": "691ed88b-b715-4d64-aa8a-71f10f292e89",
   "metadata": {},
   "outputs": [],
   "source": [
    "def objective(trial, data=X, target=y):\n",
    "    X_train, X_val, y_train, y_val = train_test_split(X, y, test_size=0.2, random_state=42)\n",
    "\n",
    "    param_grid = {\n",
    "        'learning_rate': trial.suggest_float('learning_rate', 0.001,0.01),\n",
    "        'n_estimators': trial.suggest_int(\"n_estimators\", 3000, 8000),\n",
    "        \"max_depth\": trial.suggest_int(\"max_depth\", 3, 10),\n",
    "        #\"subsample\": trial.suggest_float(\"subsample\", 0.5, 0.99, step = 0.09),\n",
    "        #'od_wait': trial.suggest_int('od_wait', 10, 50, step=8),\n",
    "        #\"colsample_bylevel\": trial.suggest_float(\"colsample_bylevel\", 0.5, 0.99, step =0.09),\n",
    "        #\"random_strength\": trial.suggest_int(\"random_strength\", 1, 10, step=1)\n",
    "    }\n",
    "    cv = KFold(n_splits=5, shuffle=True, random_state=8)\n",
    "    \n",
    "    cv_predicts = np.empty(5)\n",
    "    \n",
    "    for idx, (train_idx, test_idx) in enumerate(cv.split(X, y)):\n",
    "        X_train, X_test = X.iloc[train_idx], X.iloc[test_idx]\n",
    "        y_train, y_test = y.iloc[train_idx], y.iloc[test_idx]\n",
    "\n",
    "        pruning_callback = optuna.integration.LightGBMPruningCallback(\n",
    "            trial, \"log_loss\")\n",
    "        model = LGBMClassifier(**param_grid)\n",
    "        model.fit(X_train,\n",
    "                  y_train,\n",
    "                  eval_set=[(X_test, y_test)],\n",
    "                  #eval_metric=\"log_loss\",\n",
    "                  early_stopping_rounds=100,\n",
    "                  #callbacks=[pruning_callback],\n",
    "                  verbose=-1)\n",
    "        preds = model.predict_proba(X_test)        \n",
    "        cv_predicts[idx] = log_loss(y_test, preds)\n",
    "\n",
    "    return np.mean(cv_predicts)"
   ]
  },
  {
   "cell_type": "code",
   "execution_count": null,
   "id": "7f2cf4e8-cfcd-4bb1-9fcd-0a7d202e2863",
   "metadata": {
    "tags": []
   },
   "outputs": [],
   "source": [
    "study = optuna.create_study(direction=\"minimize\", study_name=\"LGB\")\n",
    "func = lambda trial: objective(trial, X, y)\n",
    "study.optimize(func, n_trials=7, show_progress_bar=False, n_jobs=1)"
   ]
  },
  {
   "cell_type": "code",
   "execution_count": 46,
   "id": "8d7a9f35-d061-4da8-bb5e-871afb08715a",
   "metadata": {},
   "outputs": [
    {
     "data": {
      "text/plain": [
       "0.9965805122768139"
      ]
     },
     "execution_count": 46,
     "metadata": {},
     "output_type": "execute_result"
    }
   ],
   "source": [
    "study.best_value"
   ]
  },
  {
   "cell_type": "code",
   "execution_count": 47,
   "id": "ffe3703e-ae86-443b-90da-78f3262636a3",
   "metadata": {},
   "outputs": [
    {
     "data": {
      "text/plain": [
       "{'learning_rate': 0.009098879145838661, 'n_estimators': 5524, 'max_depth': 9}"
      ]
     },
     "execution_count": 47,
     "metadata": {},
     "output_type": "execute_result"
    }
   ],
   "source": [
    "study.best_params"
   ]
  },
  {
   "cell_type": "code",
   "execution_count": 57,
   "id": "58f99f98-4e4e-4767-9b24-0700604dcdbe",
   "metadata": {},
   "outputs": [],
   "source": [
    "best_params_lgb = {'learning_rate': 0.009098879145838661, 'n_estimators': 5524, 'max_depth': 9}"
   ]
  },
  {
   "cell_type": "markdown",
   "id": "a17f06d8-90bd-4b32-9b3d-ad6835e6d6e7",
   "metadata": {},
   "source": [
    "#### Best score on cv=5 - 0.9965805122768139"
   ]
  },
  {
   "cell_type": "markdown",
   "id": "568211a2-b45b-461e-b844-6a4d9a40ea45",
   "metadata": {
    "tags": []
   },
   "source": [
    "## Submission"
   ]
  },
  {
   "cell_type": "code",
   "execution_count": 54,
   "id": "b1269595-8d00-4662-b7a5-82c6fd5b8503",
   "metadata": {},
   "outputs": [],
   "source": [
    "path_to_submission = 'final_submissions/'\n",
    "def to_submission(test_id,predicts, name_file):\n",
    "    df_submit = pd.DataFrame(data = predicts, columns=['away','home','draw'])\n",
    "    df_submit['id'] = test_id\n",
    "    df_submit = df_submit.set_index('id')\n",
    "    return df_submit.to_csv(path_to_submission+name_file)"
   ]
  },
  {
   "cell_type": "code",
   "execution_count": null,
   "id": "58911eda",
   "metadata": {
    "tags": []
   },
   "outputs": [],
   "source": [
    "ct_clf = CatBoostClassifier(**best_params_cb)\n",
    "ct_clf.fit(X,y)\n",
    "predicts_ct = ct_clf.predict_proba(final_X)"
   ]
  },
  {
   "cell_type": "code",
   "execution_count": 73,
   "id": "4ad2f6e3-ba9f-4054-ac4f-4fd07d9b1ea4",
   "metadata": {},
   "outputs": [],
   "source": [
    "to_submission(final_X.index, predicts_ct, 'submission_cb_2.csv')"
   ]
  },
  {
   "cell_type": "markdown",
   "id": "769ecf24-706e-4bc1-bb3c-b7e6efa1eb9d",
   "metadata": {},
   "source": [
    "#### And the final score on the public leaderboard is 0.98834 (1-st place) on 13 April 2022"
   ]
  }
 ],
 "metadata": {
  "kernelspec": {
   "display_name": "Python 3 (ipykernel)",
   "language": "python",
   "name": "python3"
  },
  "language_info": {
   "codemirror_mode": {
    "name": "ipython",
    "version": 3
   },
   "file_extension": ".py",
   "mimetype": "text/x-python",
   "name": "python",
   "nbconvert_exporter": "python",
   "pygments_lexer": "ipython3",
   "version": "3.8.8"
  }
 },
 "nbformat": 4,
 "nbformat_minor": 5
}
